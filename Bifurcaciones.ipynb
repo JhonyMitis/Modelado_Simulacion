{
  "nbformat": 4,
  "nbformat_minor": 0,
  "metadata": {
    "colab": {
      "name": "Bifurcaciones.ipynb",
      "provenance": [],
      "authorship_tag": "ABX9TyMYwbgwD8M/7O6x6AMicTYI",
      "include_colab_link": true
    },
    "kernelspec": {
      "name": "python3",
      "display_name": "Python 3"
    }
  },
  "cells": [
    {
      "cell_type": "markdown",
      "metadata": {
        "id": "view-in-github",
        "colab_type": "text"
      },
      "source": [
        "<a href=\"https://colab.research.google.com/github/JhonyMitis/Modelado_Simulacion/blob/master/Bifurcaciones.ipynb\" target=\"_parent\"><img src=\"https://colab.research.google.com/assets/colab-badge.svg\" alt=\"Open In Colab\"/></a>"
      ]
    },
    {
      "cell_type": "code",
      "metadata": {
        "id": "pKeWhQjPy0oB",
        "colab_type": "code",
        "colab": {}
      },
      "source": [
        "import numpy as np \n",
        "import matplotlib.pyplot as plt"
      ],
      "execution_count": 1,
      "outputs": []
    },
    {
      "cell_type": "code",
      "metadata": {
        "id": "VbxV90KMywnh",
        "colab_type": "code",
        "colab": {}
      },
      "source": [
        "fs = 1000\n",
        "t = np.arange(-10,10,1/fs)\n",
        "x = np.arange(-10,10,1/fs)\n",
        "def dx(t,x):\n",
        "    r = 1\n",
        "    return 40*x - x**3"
      ],
      "execution_count": 2,
      "outputs": []
    },
    {
      "cell_type": "code",
      "metadata": {
        "id": "CrlhZ9iTyiWQ",
        "colab_type": "code",
        "colab": {}
      },
      "source": [
        "tol = 1e-12\n",
        "def bisection(dx,x_m,x_p):\n",
        "    diff = np.abs(x_m-x_p)\n",
        "    f_x_p =  dx(x_p)\n",
        "\n",
        "    while diff>tol: \n",
        "        x_next = (x_m + x_p)/2\n",
        "        f_x_next =  dx(x_next)\n",
        "        f_x_p =  dx(x_p)\n",
        "        if f_x_next*f_x_p >0:\n",
        "            x_p = x_next \n",
        "        else:\n",
        "            x_m = x_next \n",
        "        diff = np.abs(x_m-x_p)\n",
        "    return x_m\n",
        "\n",
        "def find_all_zeros(dx,x_m,x_p):\n",
        "    x_zeros = []\n",
        "    x_zero = bisection(dx,x_m,x_p)\n",
        "    while x_zero != x_m:\n",
        "        x_zeros.append(x_zero)\n",
        "        x_p = x_zero - tol\n",
        "        x_zero = bisection(dx,x_m,x_p)\n",
        "    return x_zeros"
      ],
      "execution_count": 3,
      "outputs": []
    },
    {
      "cell_type": "code",
      "metadata": {
        "id": "x0zCdYpWy-rf",
        "colab_type": "code",
        "colab": {
          "base_uri": "https://localhost:8080/",
          "height": 265
        },
        "outputId": "691b87c5-a871-4b65-948c-a91a166ae6cf"
      },
      "source": [
        "r = np.arange(-40,40,1)\n",
        "for i in r:\n",
        "    x_m = -10\n",
        "    x_p = 10\n",
        "    dx__ = lambda x: i*x - x**3\n",
        "    zeros = find_all_zeros(dx__,x_m,x_p)\n",
        "    for j in zeros:\n",
        "        if dx__(j-tol)>dx__(j+tol):\n",
        "            plt.plot(i,j,'r.')\n",
        "        else:\n",
        "            plt.plot(i,j,'b.')"
      ],
      "execution_count": 4,
      "outputs": [
        {
          "output_type": "display_data",
          "data": {
            "image/png": "[encoded data removed]",
            "text/plain": [
              "<Figure size 432x288 with 1 Axes>"
            ]
          },
          "metadata": {
            "tags": [],
            "needs_background": "light"
          }
        }
      ]
    }
  ]
}