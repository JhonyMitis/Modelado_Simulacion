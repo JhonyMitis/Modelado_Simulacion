{
  "nbformat": 4,
  "nbformat_minor": 0,
  "metadata": {
    "colab": {
      "name": "Metodo_Gauss_Siedel.ipynb",
      "provenance": [],
      "collapsed_sections": [],
      "include_colab_link": true
    },
    "kernelspec": {
      "name": "python3",
      "display_name": "Python 3"
    }
  },
  "cells": [
    {
      "cell_type": "markdown",
      "metadata": {
        "id": "view-in-github",
        "colab_type": "text"
      },
      "source": [
        "<a href=\"https://colab.research.google.com/github/JhonyMitis/Modelado_Simulacion/blob/master/Metodo_Gauss_Siedel.ipynb\" target=\"_parent\"><img src=\"https://colab.research.google.com/assets/colab-badge.svg\" alt=\"Open In Colab\"/></a>"
      ]
    },
    {
      "cell_type": "code",
      "metadata": {
        "id": "c4yMDNwXq_Dc",
        "colab_type": "code",
        "colab": {}
      },
      "source": [
        "import matplotlib.pyplot as plt\n",
        "def grafica1():\n",
        "\n",
        "  \n",
        "  plt.axhline(0, 0.25, 0.75, color = 'r',linewidth=5)\n",
        "  plt.axhline(2, 0.25, 0.75,color = 'b',linewidth=5)\n",
        "  plt.axvline(0, 0.25, 0.75,color = 'g',linewidth=5)\n",
        "  plt.axvline(2, 0.25, 0.75,color = 'm',linewidth=5)\n",
        "\n",
        "  plt.axhline(0.666, 0.25, 0.75, color = 'k',linestyle = '--',linewidth=0.9)\n",
        "  plt.axhline(1.333, 0.25, 0.75,color = 'k',linestyle = '--',linewidth=0.9)\n",
        "  plt.axvline(0.666, 0.25, 0.75,color = 'k',linestyle = '--',linewidth=0.9)\n",
        "  plt.axvline(1.333, 0.25, 0.75,color = 'k',linestyle = '--',linewidth=0.9)\n",
        "\n",
        "  plt.annotate(r'$P_{11}$',(0.666, 0.8),fontsize=15)\n",
        "  plt.annotate(r'$P_{12}$',(0.666,1.5),fontsize=15)\n",
        "  plt.annotate(r'$P_{22}$',(1.333,1.5),fontsize=15)\n",
        "  plt.annotate(r'$P_{21}$',(1.333, 0.8),fontsize=15)\n",
        "\n",
        "  x = points = [(0, 0),(0.666,0.666),(1.333,1.333),(2,2),]\n",
        "  y= points = [(0.666, 1.333),(0,2),(0,2),(0.666,1.333),]\n",
        "  plt.plot(x,y, 'ko')\n",
        "\n",
        "  plt.annotate(r'$P_{10}$',(-0.4, 0.666),fontsize=15)\n",
        "  plt.annotate(r'$P_{20}$',(-0.4,1.333),fontsize=15)\n",
        "  plt.annotate(r'$P_{13}$',(0.5,2.2),fontsize=15)\n",
        "  plt.annotate(r'$P_{23}$',(1.2, 2.2),fontsize=15)\n",
        "  plt.annotate(r'$P_{32}$',(2.1,1.333),fontsize=15)\n",
        "  plt.annotate(r'$P_{31}$',(2.1,0.666),fontsize=15)\n",
        "  plt.annotate(r'$P_{01}$',(0.5,-0.35),fontsize=15)\n",
        "  plt.annotate(r'$P_{02}$',(1.2,-0.35),fontsize=15)\n",
        "\n",
        "  x = points = [(0.666, 0.666),(1.333,1.333),]\n",
        "  y= points = [(0.666, 1.333),(0.666,1.333),]\n",
        "  plt.plot(x,y, 'ro')\n",
        "  plt.axis([-1,3,-1,3])\n",
        "  plt.show()"
      ],
      "execution_count": null,
      "outputs": []
    },
    {
      "cell_type": "markdown",
      "metadata": {
        "id": "2-T2ZqRE_cEl",
        "colab_type": "text"
      },
      "source": [
        "# Resolución de sistemas de ecuaciones lineales utilizando el método iterativo de Gauss-Seidel\n",
        "\n",
        "Un sistema con *m* ecuaciones lineales y n incógnitas se escribe como\n",
        "\n",
        "\\begin{equation}\n",
        "  \\begin{pmatrix}\n",
        "    a_{11} & a_{12} & \\cdots & a_{1n} \\\\\n",
        "    a_{21} & a_{22} & \\cdots & a_{2n} \\\\\n",
        "    \\vdots & \\vdots & \\ddots & \\vdots \\\\\n",
        "    a_{m1} & a_{m2} & \\cdots & a_{mn}\n",
        "  \\end{pmatrix}\n",
        "  \\begin{pmatrix}\n",
        "    x_1 \\\\\n",
        "    x_2 \\\\\n",
        "    \\vdots \\\\\n",
        "    x_n\n",
        "  \\end{pmatrix}\n",
        "  =\n",
        "  \\begin{pmatrix}\n",
        "    b_1 \\\\\n",
        "    b_2 \\\\\n",
        "    \\vdots \\\\\n",
        "    b_m\n",
        "  \\end{pmatrix}\n",
        "\\end{equation}\n",
        "\n",
        "\n",
        "El método de Gauss-Seidel puede aplicarse a cualquier sistema de ecuaciones lineales que produzca una matriz **cuadrada** de coeficientes con los elementos de su diagonal no-nulos, la convergencia del método solo se garantiza si la matriz es **diagonalmente dominante** o si es **simétrica** y, a la vez, **definida positiva**.\n",
        "\n",
        "Con este método se acelera la convergencia utilizando cada nuevo valor calculado para obtener el valor de la siguiente ecuación. La idea es hacer iteraciones, a partir de un vector inicial, para encontrar las soluciones dentro de una tolerancia deseada.\n",
        "\n",
        "\\begin{equation}\n",
        "  {x_i}^{(k)} = \\frac{1}{a_{ij}} \\left( b_i - \\sum_{j=1}^{i-1} a_{ij}{x_j}^{k} - \\sum_{j=i+1}^{n} a_{ij}{x_j}^{(k-1)} \\right)\n",
        "\\end{equation}\n",
        "\n",
        "A continuación se muestra la condición para que el método converja\n",
        "\n",
        "* El valor absoluto de las pendientes de la ecuación, deben ser menor a 1\n",
        "\n",
        "\\begin{equation}\n",
        "  \\left| \\frac{a_{21}}{a_{22}} \\right| < 1 \\quad \\quad \\left| \\frac{a_{21}}{a_{22}} \\right| < 1 \n",
        "\\end{equation}\n",
        "\n",
        "* Esto significa que el elemento de la diagonal debe ser mayor que el elemento fuera de la diagonal de la matriz\n",
        "\n",
        "\\begin{equation}\n",
        "  \\left|a_{22}\\right| > \\left|a_{21}\\right| \\quad \\quad \\left|a_{11}\\right| > \\left|a_{12}\\right|\n",
        "\\end{equation}\n",
        "\n",
        "* De forma generalizada\n",
        "\n",
        "\\begin{equation}\n",
        "  a_{ii} > \\sum_{i=1}^{n} a_{ij} \\quad \\forall j\\neq i\n",
        "\\end{equation}\n",
        "\n",
        "Para un sistema de ecuaciones de 3x3 como este\n",
        "\n",
        "\\begin{equation}\n",
        "  a_{11}x_1 + a_{12}x_2 + a_{13}x_3 = b_1 \\\\\n",
        "  a_{21}x_1 + a_{22}x_2 + a_{23}x_3 = b_2 \\\\\n",
        "  a_{31}x_1 + a_{32}x_2 + a_{33}x_3 = b_3 \\\\\n",
        "\\end{equation}\n",
        "\n",
        "Despejando x_1, x_2, x_3 y adicionando los valores obtenidos\n",
        "\n",
        "\\begin{equation}\n",
        "{x_1}^{(k+1)} = \\frac{b_1 - a_{12}{x_2}^{(k)} - a_{13}{x_3}^{(k)}}{a_{11}}\n",
        "\\end{equation}\n",
        "\n",
        "\\begin{equation}\n",
        "{x_2}^{(k+1)} = \\frac{b_2 - a_{21}{x_1}^{(k+1)} - a_{23}{x_3}^{(k)}}{a_{22}}\n",
        "\\end{equation}\n",
        "\n",
        "\\begin{equation}\n",
        "{x_3}^{(k+1)} = \\frac{b_3 - a_{31}{x_1}^{(k+1)} - a_{32}{x_2}^{(k+1)}}{a_{33}}\n",
        "\\end{equation}\n",
        "\n",
        "## Cáclulo del error\n",
        "\n",
        "$$\\varepsilon = \\left| \\frac{{x_r}^{nuevo} - {x_r}^{anterior}}{{x_r}^{nuevo}} \\right| $$\n"
      ]
    },
    {
      "cell_type": "code",
      "metadata": {
        "id": "eEAFAI3nYTo7",
        "colab_type": "code",
        "colab": {}
      },
      "source": [
        "import numpy as np\n",
        "import matplotlib as plt\n",
        "\n",
        "def GaussSeidel(A,B,x):\n",
        "  n=len(x)\n",
        "  for i in range(n):\n",
        "    s=0\n",
        "    for j in range(n):\n",
        "      if i != j:\n",
        "        s=s+A[i,j]*x[j]\n",
        "    x[i]=(B[i]-s)/A[i,i]\n",
        "  return x\n",
        "\n",
        "#Condicionando con iteraciones o tolerancia\n",
        "\n",
        "def GaussSeidelCond(A,B,x,tol,iteration):\n",
        "  n=len(x)\n",
        "  t=x.copy()\n",
        "  for k in range(iteration):\n",
        "    x = GaussSeidel(A,B,x)\n",
        "    error = np.linalg.norm(np.array(x) - np.array(t),np.inf)\n",
        "    if error<tol:\n",
        "      return x, k\n",
        "    else:\n",
        "      t=x.copy()\n",
        "  return [], iteration    "
      ],
      "execution_count": null,
      "outputs": []
    },
    {
      "cell_type": "code",
      "metadata": {
        "id": "FF3O2iNn94NH",
        "colab_type": "code",
        "colab": {
          "base_uri": "https://localhost:8080/",
          "height": 136
        },
        "outputId": "b2c18f18-8146-4f36-c8fc-e99f5e3c132f"
      },
      "source": [
        "# Ejemplo 1\n",
        "\n",
        "A=np.array([[4,-1,1],[4,-8,1],[-2,1,5]],float)\n",
        "B=np.array([[7],[-21],[15]],float)\n",
        "x=np.array([[1],[1],[1]],float)\n",
        "\n",
        "tol=0.005\n",
        "iteration=20\n",
        "\n",
        "x, total_iter = GaussSeidelCond(A,B,x,tol,iteration)\n",
        "\n",
        "print('Soluciones\\n')\n",
        "print(x)\n",
        "print('\\nIteraciones: ', total_iter)"
      ],
      "execution_count": null,
      "outputs": [
        {
          "output_type": "stream",
          "text": [
            "Soluciones\n",
            "\n",
            "[[1.99990293]\n",
            " [3.99990845]\n",
            " [2.99997948]]\n",
            "\n",
            "Iteraciones:  4\n"
          ],
          "name": "stdout"
        }
      ]
    },
    {
      "cell_type": "code",
      "metadata": {
        "id": "dhl2Zc02-P0o",
        "colab_type": "code",
        "colab": {
          "base_uri": "https://localhost:8080/",
          "height": 102
        },
        "outputId": "9eaed1b1-da1e-40de-bdd9-f437cbce5fb4"
      },
      "source": [
        "# Ejemplo 2\n",
        "\n",
        "A=np.array([[-2,1,5],[4,-8,1],[4,-1,1]],float)\n",
        "B=np.array([[15],[-21],[7]],float)\n",
        "x=np.array([[1],[1],[1]],float)\n",
        "\n",
        "tol=0.005\n",
        "iteration=20\n",
        "\n",
        "x, total_iter = GaussSeidelCond(A,B,x,tol,iteration)\n",
        "\n",
        "print('Soluciones\\n')\n",
        "print(x)\n",
        "print('\\nIteraciones: ', total_iter)"
      ],
      "execution_count": null,
      "outputs": [
        {
          "output_type": "stream",
          "text": [
            "Soluciones\n",
            "\n",
            "[]\n",
            "\n",
            "Iteraciones:  20\n"
          ],
          "name": "stdout"
        }
      ]
    },
    {
      "cell_type": "markdown",
      "metadata": {
        "id": "GFgYTTISziqM",
        "colab_type": "text"
      },
      "source": [
        "#ECUACIONES DIFERENCIALES PARCIALES (EDP)\n",
        "\n",
        "Se llama ecuación diferencial parcial a las que presentan la siguiente forma general:\n",
        "\n",
        "$$F(x_{1},..,x_{n},u,\\frac{\\partial u}{\\partial x_{1}},..,\\frac{\\partial u}{\\partial x_{n}},\\frac{\\partial^mu }{\\partial x_{1}^{k_{1}}...x_{n}^{k_{n}}})=0$$\n",
        "\n",
        "Las EDP se utilizan para modelar procesos que tienen una variación temporal y una variación espacial tales como, la variación del calor con el tiempo en un sólido, la distribución de poblaciones en un determinado habitat, en el tiempo o la propagación del sonido de las cuerdas de una guitarra.\n",
        "\n",
        "En general las EDP son bastante difíciles de resolver de forma analítica.\n",
        "\n",
        "Existen algunas EDP definidas como son:\n",
        "\n",
        "**Ecuación de laplace**\n",
        "\n",
        "$$\\frac{\\partial^2 u}{\\partial x^2}+\\frac{\\partial^2u }{\\partial x^2}=0$$\n",
        "\n",
        "**Ecuación de Fourier**\n",
        "\n",
        "$$\\frac{\\partial u}{\\partial t}-\\alpha ^{2}\\frac{\\partial^2 u}{\\partial x^2}=0$$\n",
        "\n",
        "**Ecuación de Onda**\n",
        "\n",
        "$$\\frac{\\partial^2 u}{\\partial x^2}-\\frac{\\partial^2u }{\\partial x^2}=0$$\n",
        "\n",
        "##Método Iterativo de Gauss-Seidel\n",
        "$$x_{i}^{k}=\\frac{1}{a_{ii}}(b_{i}-\\sum _{j=1}^{i-1}a_{ij}x_{j}^{k}-\\sum _{j=1}^{n}a_{ij}x_{j}^{k-1})$$\n",
        "\n",
        "Ahora se aplicará el método a la ecuación de Laplace para ello primero se expresará de manera distnta la ecuación diferencial mediante el método de diferencias finitas.\n",
        "\n",
        "$$\\frac{\\partial^2 u}{\\partial x^2}+\\frac{\\partial^2u }{\\partial x^2}=0$$\n",
        "\n",
        "$$\\frac{\\partial^2 u}{\\partial x^2}=\\frac{1}{h^{2}}(u(x+h,y)-2u(x,y)+u(x-h,y))$$\n",
        "\n",
        "$$\\frac{\\partial^2 u}{\\partial y^2}=\\frac{1}{h^{2}}(u(x,y+h)-2u(x,y)+u(x,y-h))$$\n",
        "\n",
        "Reemplazando esto en la ecuación de Laplace se obtiene:\n",
        "\n",
        "\n",
        "\n",
        "$$\\frac{1}{h^{2}}(u(x+h,y)+u(x-h,y)+u(x,y+h)+u(x,y-h)-4u(x,y))=0$$\n",
        "\n",
        "Se hará un análisis de condiciones de frontera utilizando un espacio cuadrado, para estudiar variaciones en los componentes $i,j$\n",
        "\n",
        "$$u(x+h,y)=u_{i+1,j}$$\n",
        "\n",
        "$$u(x,y+h)=u_{i,j+1}$$\n",
        "\n",
        "$$u(x-h,y)=u_{i-1,j}$$\n",
        "\n",
        "$$u(x,y-h)=u_{i,j-1}$$\n",
        "\n",
        "\n",
        "\n",
        "Se cambian los desplazamientos por subíncies de posición.\n",
        "\n",
        "\n",
        "$$u_{i+1,j}+u_{i,j+1}+u_{i-1,j}+u_{i,j-1}-4u_{i,j}=0$$\n",
        "\n",
        "Definimos la región de análisis de frontera\n",
        "\n",
        "$$ 0 < x < 2$$\n",
        "$$ 0 < y < 2$$\n",
        "\n",
        "Las condiones de frontera son:\n",
        "\n",
        "$$u(x,0)=0$$\n",
        "\n",
        "$$u(0,y)=0$$\n",
        "\n",
        "$$u(2,y)=y(2-y)\\rightarrow 0 < y < 2$$\n",
        "\n",
        "$$u(x,2)=\\left\\{\\begin{matrix}\\quad x \\quad \\rightarrow 0 < x < 1\n",
        "\\\\ x-2       \\rightarrow 0 \\leq  x < 2\n",
        "\\end{matrix}\\right.$$\n",
        "\n",
        "\n"
      ]
    },
    {
      "cell_type": "code",
      "metadata": {
        "id": "SmHfyo83M19C",
        "colab_type": "code",
        "colab": {
          "base_uri": "https://localhost:8080/",
          "height": 269
        },
        "outputId": "74d5d006-d40f-4bd0-a11a-9a71de864d26"
      },
      "source": [
        "grafica1()"
      ],
      "execution_count": null,
      "outputs": [
        {
          "output_type": "display_data",
          "data": {
            "image/png": "[encoded data removed]",
            "text/plain": [
              "<Figure size 432x288 with 1 Axes>"
            ]
          },
          "metadata": {
            "tags": [],
            "needs_background": "light"
          }
        }
      ]
    },
    {
      "cell_type": "markdown",
      "metadata": {
        "id": "RB7Gn-aNQzS2",
        "colab_type": "text"
      },
      "source": [
        "De acuerdo a la gráfica interior se analizan los puntos y su valor con respecto a las condiones de forntera\n",
        "\n",
        "$$u(P_{i,j})=u(ih,jh)=u_{ij}$$\n",
        "\n",
        "Para hallar el valor de U de acuerdo a las condicones de frontera se tiene que determinar:\n",
        "\n",
        "Número de intervalos ($n$): 3\n",
        "\n",
        "Longitud de lado ($L$): 2\n",
        "\n",
        "$$h=\\frac{L}{n}= \\frac{2}{3}$$\n",
        "\n",
        "Ahora se determina el valor de las componentes así:\n",
        "\n",
        "\n",
        "\n",
        "\n",
        "* **$u(x,0)=0$**\n",
        "$$u(P_{10})=u(h,0)=u_{10}=u(\\frac{2}{3},0)=0$$\n",
        "$$u(P_{20})=u(2h,0)=u_{20}=u(\\frac{4}{3},0)=0$$\n",
        "\n",
        "* **$u(0,y)=0$**\n",
        "$$u(P_{01})=u(0,h)=u_{01}=u(0,\\frac{2}{3})=0$$\n",
        "$$u(P_{02})=u(0,2h)=u_{02}=u(0,\\frac{4}{3})=0$$\n",
        "\n",
        "* **$u(2,y)=y(2-y)$**\n",
        "$$u(P_{31})=u(3h,h)=u_{31}=u(2,\\frac{2}{3})=\\frac{2}{3}(2-\\frac{2}{3})=\\frac{8}{9}$$\n",
        "$$u(P_{32})=u(3h,2h)=u_{32}=u(4,\\frac{4}{3})=\\frac{4}{3}(2-\\frac{4}{3})=\\frac{8}{9}$$\n",
        "\n",
        "* **$u(x,2)=\\left\\{\\begin{matrix}\\quad x \\quad \\rightarrow 0 < x < 1\n",
        "\\\\ x-2       \\rightarrow 0 \\leq  x < 2\n",
        "\\end{matrix}\\right.$**\n",
        "\n",
        "$$u(P_{13})=u(h,3h)=u_{13}=u(\\frac{2}{3},2)=\\frac{2}{3}$$\n",
        "$$u(P_{23})=u(2h,3h)=u_{23}=u(\\frac{4}{3},2)=\\frac{2}{3}-2=\\frac{2}{3}$$\n",
        "\n",
        "Ahora tomamos la ecuación diferencial con diferencias finitas encontranda:\n",
        "\n",
        "$$u_{i+1,j}+u_{i,j+1}+u_{i-1,j}+u_{i,j-1}-4u_{i,j}=0$$\n",
        "\n",
        "* **i=1,j=1**\n",
        "$$u_{21}+u_{12}+u_{01}+u_{10}-4u_{11}=0$$\n",
        "$$u_{21}+u_{12}+0+0-4u_{11}=0$$\n",
        "$$-4u_{11}+u_{12}+u_{21}=0$$\n",
        "\n",
        "\n",
        "* **i=2,j=1**\n",
        "$$u_{31}+u_{22}+u_{11}+u_{20}-4u_{21}=0$$\n",
        "$$\\frac{8}{9}+u_{22}+u_{11}+0-4u_{21}=0$$\n",
        "$$u_{11}-4u_{21}+u_{22}=-\\frac{8}{9}$$\n",
        "\n",
        "* **i=1,j=2**\n",
        "$$u_{22}+u_{13}+u_{02}-4u_{12}=0$$\n",
        "$$u_{22}+\\frac{2}{3}+0+u_{11}-4u_{12}=0$$\n",
        "$$u_{11}-4u_{12}+u_{22}=-\\frac{2}{3}$$\n",
        "\n",
        "* **i=2,j=2**\n",
        "$$u_{32}+u_{23}+u_{12}+u_{21}-4u_{22}=0$$\n",
        "$$u_{21}+u_{12}-4u_{22}=-\\frac{14}{9}$$\n",
        "\n",
        "\n",
        "Obtenemos el siguiente sistema de ecuaciones lineales.\n",
        "\n",
        "\\begin{equation}\n",
        "  \\begin{pmatrix}\n",
        "    -4 & 1 & 1 & 0 \\\\\n",
        "    1 & -4 & 0 & 1  \\\\\n",
        "    1 &  0 &-4 & 1  \\\\\n",
        "    0 & 1 & 1 & -4\n",
        "  \\end{pmatrix}\n",
        "  \\begin{pmatrix}\n",
        "    u_{11} \\\\\n",
        "    u_{21} \\\\\n",
        "    u_{12} \\\\\n",
        "    u_{22}\n",
        "  \\end{pmatrix}\n",
        "  =\n",
        "  \\begin{pmatrix}\n",
        "    0 \\\\\n",
        "    -\\frac{8}{9} \\\\\n",
        "    -\\frac{2}{3} \\\\\n",
        "    -\\frac{14}{9}\n",
        "  \\end{pmatrix}\n",
        "\\end{equation}\n",
        " Asi queda representada la ecuación diferencial de Laplace mediante ecuaciones lineales. Ahora se procede a aplicar el método de Gauus-Seidel"
      ]
    },
    {
      "cell_type": "code",
      "metadata": {
        "id": "XOmWRBB1kwZX",
        "colab_type": "code",
        "colab": {
          "base_uri": "https://localhost:8080/",
          "height": 187
        },
        "outputId": "a35367c3-ac19-4719-ac8f-435c0364c020"
      },
      "source": [
        "A=np.array([[-4,1,1,0],[1,-4,0,1],[1,0,-4,1],[0,1,1,-4]],float)\n",
        "B=np.array([[0],[-8/9],[-2/3],[-14/9],float])\n",
        "u=np.array([[1],[1],[1],[1]],float)\n",
        "\n",
        "tol=0.0001\n",
        "ite=20\n",
        "u=GaussSeidel(A,B,u)\n",
        "u=GaussSeidel(A,B,u)\n",
        "u=GaussSeidel(A,B,u)\n",
        "u=GaussSeidel(A,B,u)\n",
        "u=GaussSeidel(A,B,u)\n",
        "u=GaussSeidel(A,B,u)\n",
        "print('Sin cond\\n',u)\n",
        "uC,it=GaussSeidelCond(A,B,u,tol,ite)\n",
        "print('Con cod\\n',uC,it)\n",
        "\n"
      ],
      "execution_count": null,
      "outputs": [
        {
          "output_type": "stream",
          "text": [
            "Sin cond\n",
            " [[0.19479709]\n",
            " [0.41684299]\n",
            " [0.36128743]\n",
            " [0.5834215 ]]\n",
            "Con cod\n",
            " [[0.19446648]\n",
            " [0.41667769]\n",
            " [0.36112213]\n",
            " [0.58333884]] 1\n"
          ],
          "name": "stdout"
        }
      ]
    },
    {
      "cell_type": "code",
      "metadata": {
        "id": "ynm5HpT6MQPU",
        "colab_type": "code",
        "colab": {
          "base_uri": "https://localhost:8080/",
          "height": 545
        },
        "outputId": "4720d291-2293-415c-e1ea-3c90ce404584"
      },
      "source": [
        "import numpy as np\n",
        "import seaborn as sb\n",
        "import matplotlib.pyplot as plt\n",
        "\n",
        "# Grafico de temperatura con resultados de Gauss Seidel sin cond\n",
        "data = np.array([[0,2/3,2/3,2/3],[0,u[2],u[3],8/9],[0,u[0],u[1],8/9],[0,0,0,8/9]],float)\n",
        "heat_map = sb.heatmap(data, annot=True,cmap=\"YlOrRd\")\n",
        "plt.title(\"Resultados Gauss Seidel sin Cond\")\n",
        "plt.show()\n",
        "\n",
        "# Grafico de temperatura con resultados de Gauss Seidel con cond\n",
        "data = np.array([[0,2/3,2/3,2/3],[0,uC[2],uC[3],8/9],[0,uC[0],uC[1],8/9],[0,0,0,8/9]],float)\n",
        "heat_map = sb.heatmap(data, annot=True,cmap=\"YlOrRd\")\n",
        "plt.title(\"Resultados Gauss Seidel con Cond\")\n",
        "plt.show()"
      ],
      "execution_count": null,
      "outputs": [
        {
          "output_type": "display_data",
          "data": {
            "image/png": "[encoded data removed]",
            "text/plain": [
              "<Figure size 432x288 with 2 Axes>"
            ]
          },
          "metadata": {
            "tags": [],
            "needs_background": "light"
          }
        },
        {
          "output_type": "display_data",
          "data": {
            "image/png": "[encoded data removed]",
            "text/plain": [
              "<Figure size 432x288 with 2 Axes>"
            ]
          },
          "metadata": {
            "tags": [],
            "needs_background": "light"
          }
        }
      ]
    },
    {
      "cell_type": "markdown",
      "metadata": {
        "id": "iDNUzrn1NNZm",
        "colab_type": "text"
      },
      "source": [
        "##Para cualquier valor de frontera "
      ]
    },
    {
      "cell_type": "code",
      "metadata": {
        "id": "2tWa3McYNM2G",
        "colab_type": "code",
        "colab": {}
      },
      "source": [
        "#Puntos lado izquierdo \n",
        "P10 = 10\n",
        "P20 = 20\n",
        "\n",
        "#Puntos lado arriba\n",
        "P13 = 30\n",
        "P23 = 30\n",
        "\n",
        "#Puntos lado derecho\n",
        "P32 = 50\n",
        "P31 = 50\n",
        "\n",
        "#Puntos lado abajo\n",
        "P01 = 60\n",
        "P02 = 70\n",
        "\n",
        "A=np.array([[-4,1,1,0],[1,-4,0,1],[1,0,-4,1],[0,1,1,-4]],float)\n",
        "B=np.array([[-P01-P10],[-P20-P31],[-P02-P13],[-P32-P23],float])\n",
        "u=np.array([[1],[1],[1],[1]],float)"
      ],
      "execution_count": null,
      "outputs": []
    },
    {
      "cell_type": "code",
      "metadata": {
        "id": "YSdA9ox1SUWZ",
        "colab_type": "code",
        "colab": {
          "base_uri": "https://localhost:8080/",
          "height": 187
        },
        "outputId": "9fc79bd2-3154-4351-d31f-3eb627bcbfc8"
      },
      "source": [
        "tol=0.0001\n",
        "ite=20\n",
        "u=GaussSeidel(A,B,u)\n",
        "u=GaussSeidel(A,B,u)\n",
        "u=GaussSeidel(A,B,u)\n",
        "u=GaussSeidel(A,B,u)\n",
        "u=GaussSeidel(A,B,u)\n",
        "u=GaussSeidel(A,B,u)\n",
        "print('Sin cond\\n',u)\n",
        "uC,it=GaussSeidelCond(A,B,u,tol,ite)\n",
        "print('Con cod\\n',uC,it)\n"
      ],
      "execution_count": null,
      "outputs": [
        {
          "output_type": "stream",
          "text": [
            "Sin cond\n",
            " [[37.88769531]\n",
            " [37.06884766]\n",
            " [44.56884766]\n",
            " [40.40942383]]\n",
            "Con cod\n",
            " [[37.91663837]\n",
            " [37.08331919]\n",
            " [44.58331919]\n",
            " [40.41665959]] 4\n"
          ],
          "name": "stdout"
        }
      ]
    },
    {
      "cell_type": "code",
      "metadata": {
        "id": "nhTFgK0HSXaH",
        "colab_type": "code",
        "colab": {
          "base_uri": "https://localhost:8080/",
          "height": 599
        },
        "outputId": "d15215f8-5be9-4da7-8e1f-e522d890229c"
      },
      "source": [
        "import numpy as np\n",
        "import seaborn as sb\n",
        "import matplotlib.pyplot as plt\n",
        "\n",
        "# Grafico de temperatura con resultados de Gauss Seidel sin cond\n",
        "data = np.array([[P20,P13,P23,P23],[P20,u[2],u[3],P32],[P10,u[0],u[1],P31],[P01,P02,P02,P31]],float)\n",
        "heat_map = sb.heatmap(data, annot=True,cmap=\"YlOrRd\")\n",
        "plt.title(\"Resultados Gauss Seidel sin Cond\")\n",
        "plt.show()\n",
        "\n",
        "# Grafico de temperatura con resultados de Gauss Seidel con cond\n",
        "data = np.array([[P20,P13,P23,P23],[P20,u[2],u[3],P32],[P10,u[0],u[1],P31],[P01,P02,P02,P31]],float)\n",
        "heat_map = sb.heatmap(data, annot=True,cmap=\"YlOrRd\")\n",
        "plt.title(\"Resultados Gauss Seidel con Cond\")\n",
        "plt.show()"
      ],
      "execution_count": null,
      "outputs": [
        {
          "output_type": "stream",
          "text": [
            "/usr/local/lib/python3.6/dist-packages/statsmodels/tools/_testing.py:19: FutureWarning: pandas.util.testing is deprecated. Use the functions in the public API at pandas.testing instead.\n",
            "  import pandas.util.testing as tm\n"
          ],
          "name": "stderr"
        },
        {
          "output_type": "display_data",
          "data": {
            "image/png": "[encoded data removed]",
            "text/plain": [
              "<Figure size 432x288 with 2 Axes>"
            ]
          },
          "metadata": {
            "tags": [],
            "needs_background": "light"
          }
        },
        {
          "output_type": "display_data",
          "data": {
            "image/png": "[encoded data removed]",
            "text/plain": [
              "<Figure size 432x288 with 2 Axes>"
            ]
          },
          "metadata": {
            "tags": [],
            "needs_background": "light"
          }
        }
      ]
    },
    {
      "cell_type": "code",
      "metadata": {
        "id": "BP6Cf4RRPpb9",
        "colab_type": "code",
        "colab": {
          "base_uri": "https://localhost:8080/",
          "height": 176
        },
        "outputId": "129ac14b-6f01-449c-cb65-c7d1520019ce"
      },
      "source": [
        "import numpy as np\n",
        "import seaborn as sb\n",
        "import matplotlib.pyplot as plt\n",
        "#f = np.array([1,1,1,1,-4],int)\n",
        "\n",
        "intervalos = 2\n",
        "num_ecu = ((intervalos**2)+(2*intervalos)+1)\n",
        "ecuaciones = np.zeros((num_ecu, 1),dtype=object)\n",
        "\n",
        "\n",
        "\n",
        "k=0\n",
        "for j in range(intervalos+1):\n",
        "  for i in range(intervalos+1):\n",
        "    a = (i+2,j+1)\n",
        "    b = (i+1,j+2)\n",
        "    c = (i,j+1)\n",
        "    d = (i+1,j)\n",
        "    e = (i+1,j+1)\n",
        "    ecuaciones[k,0] = [a,b,c,d,e] \n",
        "    k=k+1\n",
        "ecuaciones\n"
      ],
      "execution_count": null,
      "outputs": [
        {
          "output_type": "execute_result",
          "data": {
            "text/plain": [
              "array([[list([(2, 1), (1, 2), (0, 1), (1, 0), (1, 1)])],\n",
              "       [list([(3, 1), (2, 2), (1, 1), (2, 0), (2, 1)])],\n",
              "       [list([(4, 1), (3, 2), (2, 1), (3, 0), (3, 1)])],\n",
              "       [list([(2, 2), (1, 3), (0, 2), (1, 1), (1, 2)])],\n",
              "       [list([(3, 2), (2, 3), (1, 2), (2, 1), (2, 2)])],\n",
              "       [list([(4, 2), (3, 3), (2, 2), (3, 1), (3, 2)])],\n",
              "       [list([(2, 3), (1, 4), (0, 3), (1, 2), (1, 3)])],\n",
              "       [list([(3, 3), (2, 4), (1, 3), (2, 2), (2, 3)])],\n",
              "       [list([(4, 3), (3, 4), (2, 3), (3, 2), (3, 3)])]], dtype=object)"
            ]
          },
          "metadata": {
            "tags": []
          },
          "execution_count": 2
        }
      ]
    },
    {
      "cell_type": "markdown",
      "metadata": {
        "id": "E3ypGkZA1VL_",
        "colab_type": "text"
      },
      "source": [
        "# Bibliografía\n",
        "\n",
        "* Ojeda, L. R. (2016). Análisis numérico básico. Un enfoque algorítmico con el soporte de Python, Guayaquil: Escuela Superior Politécnica del Litoral.\n",
        "\n"
      ]
    },
    {
      "cell_type": "markdown",
      "metadata": {
        "id": "TDq97EGgQyPW",
        "colab_type": "text"
      },
      "source": [
        ""
      ]
    }
  ]
}